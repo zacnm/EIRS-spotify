{
 "cells": [
  {
   "cell_type": "markdown",
   "id": "3f0bc1ad",
   "metadata": {},
   "source": [
    "# Spotify Artist Explorer\n",
    "\n",
    "A simple Jupyter notebook that uses [Spotify's API](https://developer.spotify.com/) to retrieve an inputted artist' albums, from which the user selects an album and a track to generate a wordcloud of the lyrics (without stopwords), with the lyrics retrieved via the API of [lyrics.ovh](https://lyrics.ovh/)"
   ]
  },
  {
   "cell_type": "code",
   "execution_count": null,
   "id": "d2e17b1f",
   "metadata": {},
   "outputs": [],
   "source": [
    "# Import required libraries and request user's Spotify API credentials\n",
    "\n",
    "import spotipy\n",
    "from spotipy.oauth2 import SpotifyClientCredentials\n",
    "import requests\n",
    "import ipywidgets as widgets\n",
    "from IPython.display import display\n",
    "\n",
    "client_id_input = widgets.Text(\n",
    "    description='Client ID:',\n",
    "    placeholder='Enter your Spotify Client ID'\n",
    ")\n",
    "\n",
    "client_secret_input = widgets.Text(\n",
    "    description='Client Secret:',\n",
    "    placeholder='Enter your Spotify Client Secret'\n",
    ")\n",
    "\n",
    "display(client_id_input)\n",
    "display(client_secret_input)\n"
   ]
  },
  {
   "cell_type": "code",
   "execution_count": null,
   "id": "001b5213",
   "metadata": {},
   "outputs": [],
   "source": [
    "# Open connection to Spotify API via Spotipy package\n",
    "\n",
    "client_id = client_id_input.value\n",
    "client_secret = client_secret_input.value\n",
    "\n",
    "try:\n",
    "  client_credentials_manager = SpotifyClientCredentials(client_id=client_id, client_secret=client_secret)\n",
    "  sp = spotipy.Spotify(client_credentials_manager=client_credentials_manager)\n",
    "except Exception as e:\n",
    "  raise Exception(f\"Error connecting to Spotify API: {e}\")"
   ]
  },
  {
   "cell_type": "code",
   "execution_count": null,
   "id": "c1903c00",
   "metadata": {},
   "outputs": [],
   "source": [
    "# Functions to get artist albums, album tracks, and track lyrics\n",
    "\n",
    "def get_artist_albums(artist_name):\n",
    "    results = sp.search(q=f'artist:{artist_name}', type='artist')\n",
    "    artists = results['artists']['items']\n",
    "    \n",
    "    if not artists:\n",
    "        raise Exception(f\"No artist found with name {artist_name}\")\n",
    "    \n",
    "    artist = artists[0]\n",
    "    artist_id = artist['id']\n",
    "    albums = []\n",
    "\n",
    "     # Filter for albums only (sometimes includes concert recordings, remasters, etc. but the only reliable method I found \n",
    "     # of removing them was with a keyword search, which also frequently removed legitimate albums)\n",
    "    results = sp.artist_albums(artist_id, album_type='album')\n",
    "    albums.extend(results['items'])\n",
    "    \n",
    "    # Retrieve more albums if there is a next page\n",
    "    while results['next']:\n",
    "        results = sp.next(results)\n",
    "        albums.extend(results['items'])\n",
    "                \n",
    "    return {album['name']: album['id'] for album in albums}\n",
    "\n",
    "def get_album_tracks(album_id):\n",
    "    results = sp.album_tracks(album_id)\n",
    "    tracks = results['items']\n",
    "    return [track['name'] for track in tracks]\n",
    "\n",
    "def get_track_lyrics(artist_name, track_name):\n",
    "    response = requests.get(f\"https://api.lyrics.ovh/v1/{artist_name}/{track_name}\")\n",
    "    response.raise_for_status()\n",
    "    data = response.json()\n",
    "    return data.get(\"lyrics\", \"Lyrics not found.\")"
   ]
  },
  {
   "cell_type": "code",
   "execution_count": null,
   "id": "f8396472",
   "metadata": {},
   "outputs": [],
   "source": [
    "# User input for artist name\n",
    "\n",
    "artist_input = widgets.Text(\n",
    "    description='Artist:',\n",
    "    placeholder='Enter artist name',\n",
    "    style={'description_width': 'initial'}\n",
    ")\n",
    "display(artist_input)"
   ]
  },
  {
   "cell_type": "code",
   "execution_count": null,
   "id": "cedf6b48",
   "metadata": {},
   "outputs": [],
   "source": [
    "# User selection for album\n",
    "\n",
    "artist_name = artist_input.value\n",
    "\n",
    "try:\n",
    "    albums = get_artist_albums(artist_name)\n",
    "\n",
    "    album_dropdown = widgets.Dropdown(\n",
    "        options=albums.keys(),\n",
    "        description='Album:',\n",
    "        disabled=False,\n",
    "    )\n",
    "    display(album_dropdown)\n",
    "except Exception as e:\n",
    "    print(f\"Error retrieving albums: {e}\")"
   ]
  },
  {
   "cell_type": "code",
   "execution_count": null,
   "id": "451beffe",
   "metadata": {},
   "outputs": [],
   "source": [
    "# User selection for track\n",
    "\n",
    "album_id = albums[album_dropdown.value]\n",
    "\n",
    "try:\n",
    "    tracks = get_album_tracks(album_id)\n",
    "\n",
    "    track_dropdown = widgets.Dropdown(\n",
    "        options=tracks,\n",
    "        description='Track:',\n",
    "        disabled=False,\n",
    "    )\n",
    "    display(track_dropdown)\n",
    "except Exception as e:\n",
    "    print(f\"Error retrieving tracks: {e}\")"
   ]
  },
  {
   "cell_type": "code",
   "execution_count": null,
   "id": "8a651156",
   "metadata": {},
   "outputs": [],
   "source": [
    "# Retrieve lyrics and generate word cloud\n",
    "\n",
    "from wordcloud import WordCloud\n",
    "import matplotlib.pyplot as plt\n",
    "\n",
    "track_name = track_dropdown.value\n",
    "\n",
    "try:\n",
    "  lyrics = get_track_lyrics(artist_name, track_name)\n",
    "\n",
    "  wordcloud = WordCloud(width=800, height=400, background_color='white').generate(lyrics.lower())\n",
    "  \n",
    "  plt.figure(figsize=(10, 5))\n",
    "  plt.imshow(wordcloud, interpolation='bilinear')\n",
    "  plt.axis('off')\n",
    "  plt.show()\n",
    "except:\n",
    "  print(\"Error retrieving lyrics\")"
   ]
  }
 ],
 "metadata": {
  "kernelspec": {
   "display_name": "base",
   "language": "python",
   "name": "python3"
  },
  "language_info": {
   "codemirror_mode": {
    "name": "ipython",
    "version": 3
   },
   "file_extension": ".py",
   "mimetype": "text/x-python",
   "name": "python",
   "nbconvert_exporter": "python",
   "pygments_lexer": "ipython3",
   "version": "3.12.3"
  }
 },
 "nbformat": 4,
 "nbformat_minor": 5
}
